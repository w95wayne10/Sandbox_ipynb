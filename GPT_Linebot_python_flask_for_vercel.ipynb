{
  "nbformat": 4,
  "nbformat_minor": 0,
  "metadata": {
    "colab": {
      "provenance": []
    },
    "kernelspec": {
      "name": "python3",
      "display_name": "Python 3"
    },
    "language_info": {
      "name": "python"
    }
  },
  "cells": [
    {
      "cell_type": "markdown",
      "source": [
        "[原repo連結](https://github.com/w95wayne10/GPT-Linebot-python-flask-for-vercel)"
      ],
      "metadata": {
        "id": "G9BNu18tWwyc"
      }
    },
    {
      "cell_type": "markdown",
      "source": [
        "# 前置準備"
      ],
      "metadata": {
        "id": "7J-8G54ZXLHg"
      }
    },
    {
      "cell_type": "code",
      "source": [
        "! pip install line-bot-sdk"
      ],
      "metadata": {
        "id": "UDEPE7qW7lcX"
      },
      "execution_count": null,
      "outputs": []
    },
    {
      "cell_type": "code",
      "source": [
        "! pip install openai"
      ],
      "metadata": {
        "id": "lsu1HR56747O"
      },
      "execution_count": null,
      "outputs": []
    },
    {
      "cell_type": "code",
      "execution_count": 19,
      "metadata": {
        "id": "EKSG70F2uPax"
      },
      "outputs": [],
      "source": [
        "import os\n",
        "import openai\n",
        "import time"
      ]
    },
    {
      "cell_type": "code",
      "source": [
        "openai.api_key = input()"
      ],
      "metadata": {
        "id": "NjW7AmhIXoYE"
      },
      "execution_count": null,
      "outputs": []
    },
    {
      "cell_type": "markdown",
      "source": [
        "# Playground"
      ],
      "metadata": {
        "id": "ny_HHPQ1XVCN"
      }
    },
    {
      "cell_type": "markdown",
      "source": [
        "## 簡化模型測試"
      ],
      "metadata": {
        "id": "Ho7lUkWAXemN"
      }
    },
    {
      "cell_type": "code",
      "source": [
        "text = \"最長的交響樂名稱\"\n",
        "test_prompt = \"A:哈囉！\\nQ:{}\".format(text)\n",
        "\n",
        "response = openai.Completion.create(\n",
        "model=\"text-davinci-003\", \n",
        "prompt=test_prompt, \n",
        "temperature=0.9,\n",
        "frequency_penalty = 0,\n",
        "presence_penalty = 0.6,\n",
        "max_tokens=240\n",
        ")"
      ],
      "metadata": {
        "id": "OUMsrZRgubjI"
      },
      "execution_count": 8,
      "outputs": []
    },
    {
      "cell_type": "markdown",
      "source": [
        "確認輸出結果"
      ],
      "metadata": {
        "id": "s4BFp9HUZkTU"
      }
    },
    {
      "cell_type": "code",
      "source": [
        "print(response)\n",
        "print(response['choices'])\n",
        "print(response['choices'][0]['text'])"
      ],
      "metadata": {
        "colab": {
          "base_uri": "https://localhost:8080/"
        },
        "id": "OicYb2OzZhGN",
        "outputId": "61bb2ff6-ba60-4e4a-bc22-7c48305ce1e1"
      },
      "execution_count": 9,
      "outputs": [
        {
          "output_type": "stream",
          "name": "stdout",
          "text": [
            "{\n",
            "  \"choices\": [\n",
            "    {\n",
            "      \"finish_reason\": \"stop\",\n",
            "      \"index\": 0,\n",
            "      \"logprobs\": null,\n",
            "      \"text\": \"\\u662f\\u4ec0\\u9ebc\\uff1f\\nA:\\u6700\\u9577\\u7684\\u4ea4\\u97ff\\u6a02\\u540d\\u7a31\\u53ef\\u80fd\\u662f\\u5361\\u62c9\\u74e6\\u8036\\u592b\\u7684\\u300a\\u98db\\u8d8a\\u842c\\u91cc\\uff1a\\u7d00\\u5ff5\\u885b\\u514b\\u7406\\u58eb\\u00b7\\u5c3c\\u53e4\\u62c9\\u00b7\\u65af\\u62c9\\u592b\\u7279\\u7f85\\u592b\\u65af\\u57fa\\u300b\\u3002\"\n",
            "    }\n",
            "  ],\n",
            "  \"created\": 1671168713,\n",
            "  \"id\": \"cmpl-6Nxc1LIAQEiFu3kgmnv6Qwo5E4crh\",\n",
            "  \"model\": \"text-davinci-003\",\n",
            "  \"object\": \"text_completion\",\n",
            "  \"usage\": {\n",
            "    \"completion_tokens\": 107,\n",
            "    \"prompt_tokens\": 32,\n",
            "    \"total_tokens\": 139\n",
            "  }\n",
            "}\n",
            "[<OpenAIObject at 0x7fbfe9171720> JSON: {\n",
            "  \"finish_reason\": \"stop\",\n",
            "  \"index\": 0,\n",
            "  \"logprobs\": null,\n",
            "  \"text\": \"\\u662f\\u4ec0\\u9ebc\\uff1f\\nA:\\u6700\\u9577\\u7684\\u4ea4\\u97ff\\u6a02\\u540d\\u7a31\\u53ef\\u80fd\\u662f\\u5361\\u62c9\\u74e6\\u8036\\u592b\\u7684\\u300a\\u98db\\u8d8a\\u842c\\u91cc\\uff1a\\u7d00\\u5ff5\\u885b\\u514b\\u7406\\u58eb\\u00b7\\u5c3c\\u53e4\\u62c9\\u00b7\\u65af\\u62c9\\u592b\\u7279\\u7f85\\u592b\\u65af\\u57fa\\u300b\\u3002\"\n",
            "}]\n",
            "是什麼？\n",
            "A:最長的交響樂名稱可能是卡拉瓦耶夫的《飛越萬里：紀念衛克理士·尼古拉·斯拉夫特羅夫斯基》。\n"
          ]
        }
      ]
    },
    {
      "cell_type": "markdown",
      "source": [
        "## 遞迴至結果完整輸出測試"
      ],
      "metadata": {
        "id": "PgwwuIktbEg9"
      }
    },
    {
      "cell_type": "code",
      "source": [
        "#執行時間19.359秒\n",
        "text = \"模擬一篇400字櫻花季的報導\"\n",
        "test_prompt = \"A:哈囉！\\nQ:{}\\nA:\".format(text)\n",
        "stop_condition = False\n",
        "while not stop_condition:\n",
        "  response = openai.Completion.create(\n",
        "  model=\"text-davinci-003\", \n",
        "  prompt=test_prompt, \n",
        "  temperature=0.9,\n",
        "  frequency_penalty = 0,\n",
        "  presence_penalty = 0.6,\n",
        "  max_tokens=240\n",
        "  )\n",
        "  stop_condition = response.choices[0].finish_reason==\"stop\"\n",
        "  test_prompt += response['choices'][0]['text'].strip()\n",
        "\n",
        "  print(response['choices'][0]['text'].strip())"
      ],
      "metadata": {
        "colab": {
          "base_uri": "https://localhost:8080/"
        },
        "id": "_Z_4ebzBbLul",
        "outputId": "564d7e19-2ee4-46d1-d9b2-ddfcdf6e8694"
      },
      "execution_count": 20,
      "outputs": [
        {
          "output_type": "stream",
          "name": "stdout",
          "text": [
            "櫻花季已經來臨，令人激動不斷！該市的大街小巷被一幅幅美麗動人的櫻花所環繞。熱情的陽光把市容映射得格外美麗，為櫻花季增添氣氛。來自四面八方的櫻花迷都湧入了這裡，看著櫻花紛飛的遠處，穿著華麗的櫻花衣服的人們在詩意的景色中\n",
            "舞起來。這是一種令人驚豔的景色！\n",
            "\n",
            "在櫻花季期間，許多活動也舉行了。山上爬梅遊園，賞櫻等，你可以一山一水美麗的景緻，也可以滿載而歸。參加各種活動中可以感受到櫻花文化底蘊深厚的流傳，即使不賞櫻，也能感受到浪漫的情懷。\n",
            "\n",
            "櫻花\n",
            "季的結束，也讓很多人不舍。但是大眾還有一個共同的心愿，就是希望明年可以再來賞櫻，再一次感受這令人激動不斷的櫻花季氣氛！\n"
          ]
        }
      ]
    },
    {
      "cell_type": "code",
      "source": [
        "print(response)\n",
        "print(response['choices'])\n",
        "print(test_prompt)"
      ],
      "metadata": {
        "colab": {
          "base_uri": "https://localhost:8080/"
        },
        "id": "Tf1S63a4kHAR",
        "outputId": "a622a9ad-e00a-420e-8039-498184987853"
      },
      "execution_count": 21,
      "outputs": [
        {
          "output_type": "stream",
          "name": "stdout",
          "text": [
            "{\n",
            "  \"choices\": [\n",
            "    {\n",
            "      \"finish_reason\": \"stop\",\n",
            "      \"index\": 0,\n",
            "      \"logprobs\": null,\n",
            "      \"text\": \"\\u5b63\\u7684\\u7d50\\u675f\\uff0c\\u4e5f\\u8b93\\u5f88\\u591a\\u4eba\\u4e0d\\u820d\\u3002\\u4f46\\u662f\\u5927\\u773e\\u9084\\u6709\\u4e00\\u500b\\u5171\\u540c\\u7684\\u5fc3\\u613f\\uff0c\\u5c31\\u662f\\u5e0c\\u671b\\u660e\\u5e74\\u53ef\\u4ee5\\u518d\\u4f86\\u8cde\\u6afb\\uff0c\\u518d\\u4e00\\u6b21\\u611f\\u53d7\\u9019\\u4ee4\\u4eba\\u6fc0\\u52d5\\u4e0d\\u65b7\\u7684\\u6afb\\u82b1\\u5b63\\u6c23\\u6c1b\\uff01\"\n",
            "    }\n",
            "  ],\n",
            "  \"created\": 1671171389,\n",
            "  \"id\": \"cmpl-6NyJBUVmftHU5j49V0b1h9cDSVmi2\",\n",
            "  \"model\": \"text-davinci-003\",\n",
            "  \"object\": \"text_completion\",\n",
            "  \"usage\": {\n",
            "    \"completion_tokens\": 119,\n",
            "    \"prompt_tokens\": 522,\n",
            "    \"total_tokens\": 641\n",
            "  }\n",
            "}\n",
            "[<OpenAIObject at 0x7fbfe059f090> JSON: {\n",
            "  \"finish_reason\": \"stop\",\n",
            "  \"index\": 0,\n",
            "  \"logprobs\": null,\n",
            "  \"text\": \"\\u5b63\\u7684\\u7d50\\u675f\\uff0c\\u4e5f\\u8b93\\u5f88\\u591a\\u4eba\\u4e0d\\u820d\\u3002\\u4f46\\u662f\\u5927\\u773e\\u9084\\u6709\\u4e00\\u500b\\u5171\\u540c\\u7684\\u5fc3\\u613f\\uff0c\\u5c31\\u662f\\u5e0c\\u671b\\u660e\\u5e74\\u53ef\\u4ee5\\u518d\\u4f86\\u8cde\\u6afb\\uff0c\\u518d\\u4e00\\u6b21\\u611f\\u53d7\\u9019\\u4ee4\\u4eba\\u6fc0\\u52d5\\u4e0d\\u65b7\\u7684\\u6afb\\u82b1\\u5b63\\u6c23\\u6c1b\\uff01\"\n",
            "}]\n",
            "A:哈囉！\n",
            "Q:模擬一篇400字櫻花季的報導\n",
            "A:櫻花季已經來臨，令人激動不斷！該市的大街小巷被一幅幅美麗動人的櫻花所環繞。熱情的陽光把市容映射得格外美麗，為櫻花季增添氣氛。來自四面八方的櫻花迷都湧入了這裡，看著櫻花紛飛的遠處，穿著華麗的櫻花衣服的人們在詩意的景色中舞起來。這是一種令人驚豔的景色！\n",
            "\n",
            "在櫻花季期間，許多活動也舉行了。山上爬梅遊園，賞櫻等，你可以一山一水美麗的景緻，也可以滿載而歸。參加各種活動中可以感受到櫻花文化底蘊深厚的流傳，即使不賞櫻，也能感受到浪漫的情懷。\n",
            "\n",
            "櫻花季的結束，也讓很多人不舍。但是大眾還有一個共同的心愿，就是希望明年可以再來賞櫻，再一次感受這令人激動不斷的櫻花季氣氛！\n"
          ]
        }
      ]
    },
    {
      "cell_type": "code",
      "source": [
        "test_prompt"
      ],
      "metadata": {
        "colab": {
          "base_uri": "https://localhost:8080/",
          "height": 88
        },
        "id": "CaCXWM-0f9nQ",
        "outputId": "8fc83e33-c256-4e70-b437-33ace82a7c48"
      },
      "execution_count": 22,
      "outputs": [
        {
          "output_type": "execute_result",
          "data": {
            "text/plain": [
              "'A:哈囉！\\nQ:模擬一篇400字櫻花季的報導\\nA:櫻花季已經來臨，令人激動不斷！該市的大街小巷被一幅幅美麗動人的櫻花所環繞。熱情的陽光把市容映射得格外美麗，為櫻花季增添氣氛。來自四面八方的櫻花迷都湧入了這裡，看著櫻花紛飛的遠處，穿著華麗的櫻花衣服的人們在詩意的景色中舞起來。這是一種令人驚豔的景色！\\n\\n在櫻花季期間，許多活動也舉行了。山上爬梅遊園，賞櫻等，你可以一山一水美麗的景緻，也可以滿載而歸。參加各種活動中可以感受到櫻花文化底蘊深厚的流傳，即使不賞櫻，也能感受到浪漫的情懷。\\n\\n櫻花季的結束，也讓很多人不舍。但是大眾還有一個共同的心愿，就是希望明年可以再來賞櫻，再一次感受這令人激動不斷的櫻花季氣氛！'"
            ],
            "application/vnd.google.colaboratory.intrinsic+json": {
              "type": "string"
            }
          },
          "metadata": {},
          "execution_count": 22
        }
      ]
    },
    {
      "cell_type": "markdown",
      "source": [
        "# Issues"
      ],
      "metadata": {
        "id": "VqutT_sMYX04"
      }
    },
    {
      "cell_type": "markdown",
      "source": [
        "## getenv 回傳字串轉布林值"
      ],
      "metadata": {
        "id": "DO43TmKfYljg"
      }
    },
    {
      "cell_type": "code",
      "source": [
        "os.environ['test']=\"0\"\n",
        "print(os.getenv(\"test\",default=\"true\").lower() in ['true', '1', 't'])"
      ],
      "metadata": {
        "colab": {
          "base_uri": "https://localhost:8080/"
        },
        "id": "fiEooeB5ecrr",
        "outputId": "0a74912d-8144-439d-aa71-42e446732909"
      },
      "execution_count": null,
      "outputs": [
        {
          "output_type": "stream",
          "name": "stdout",
          "text": [
            "False\n"
          ]
        }
      ]
    }
  ]
}