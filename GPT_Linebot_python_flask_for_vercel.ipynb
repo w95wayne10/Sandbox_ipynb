{
  "nbformat": 4,
  "nbformat_minor": 0,
  "metadata": {
    "colab": {
      "provenance": []
    },
    "kernelspec": {
      "name": "python3",
      "display_name": "Python 3"
    },
    "language_info": {
      "name": "python"
    }
  },
  "cells": [
    {
      "cell_type": "markdown",
      "source": [
        "[原repo連結](https://github.com/w95wayne10/GPT-Linebot-python-flask-for-vercel)"
      ],
      "metadata": {
        "id": "G9BNu18tWwyc"
      }
    },
    {
      "cell_type": "markdown",
      "source": [
        "# 前置準備"
      ],
      "metadata": {
        "id": "7J-8G54ZXLHg"
      }
    },
    {
      "cell_type": "code",
      "source": [
        "! pip install line-bot-sdk"
      ],
      "metadata": {
        "id": "UDEPE7qW7lcX"
      },
      "execution_count": null,
      "outputs": []
    },
    {
      "cell_type": "code",
      "source": [
        "! pip install openai"
      ],
      "metadata": {
        "id": "lsu1HR56747O"
      },
      "execution_count": null,
      "outputs": []
    },
    {
      "cell_type": "code",
      "execution_count": 4,
      "metadata": {
        "id": "EKSG70F2uPax"
      },
      "outputs": [],
      "source": [
        "import os\n",
        "import openai"
      ]
    },
    {
      "cell_type": "code",
      "source": [
        "openai.api_key = input()"
      ],
      "metadata": {
        "id": "NjW7AmhIXoYE"
      },
      "execution_count": null,
      "outputs": []
    },
    {
      "cell_type": "markdown",
      "source": [
        "# Playground"
      ],
      "metadata": {
        "id": "ny_HHPQ1XVCN"
      }
    },
    {
      "cell_type": "markdown",
      "source": [
        "## 簡化模型測試"
      ],
      "metadata": {
        "id": "Ho7lUkWAXemN"
      }
    },
    {
      "cell_type": "code",
      "source": [
        "text = \"最長的交響樂名稱\"\n",
        "test_prompt = \"A:哈囉！\\nQ:{}\".format(text)\n",
        "\n",
        "response = openai.Completion.create(\n",
        "model=\"text-davinci-003\", \n",
        "prompt=test_prompt, \n",
        "temperature=0.9,\n",
        "frequency_penalty = 0,\n",
        "presence_penalty = 0.6,\n",
        "max_tokens=240\n",
        ")"
      ],
      "metadata": {
        "id": "OUMsrZRgubjI"
      },
      "execution_count": 8,
      "outputs": []
    },
    {
      "cell_type": "markdown",
      "source": [
        "確認輸出結果"
      ],
      "metadata": {
        "id": "s4BFp9HUZkTU"
      }
    },
    {
      "cell_type": "code",
      "source": [
        "print(response)\n",
        "print(response['choices'])\n",
        "print(response['choices'][0]['text'])"
      ],
      "metadata": {
        "colab": {
          "base_uri": "https://localhost:8080/"
        },
        "id": "OicYb2OzZhGN",
        "outputId": "61bb2ff6-ba60-4e4a-bc22-7c48305ce1e1"
      },
      "execution_count": 9,
      "outputs": [
        {
          "output_type": "stream",
          "name": "stdout",
          "text": [
            "{\n",
            "  \"choices\": [\n",
            "    {\n",
            "      \"finish_reason\": \"stop\",\n",
            "      \"index\": 0,\n",
            "      \"logprobs\": null,\n",
            "      \"text\": \"\\u662f\\u4ec0\\u9ebc\\uff1f\\nA:\\u6700\\u9577\\u7684\\u4ea4\\u97ff\\u6a02\\u540d\\u7a31\\u53ef\\u80fd\\u662f\\u5361\\u62c9\\u74e6\\u8036\\u592b\\u7684\\u300a\\u98db\\u8d8a\\u842c\\u91cc\\uff1a\\u7d00\\u5ff5\\u885b\\u514b\\u7406\\u58eb\\u00b7\\u5c3c\\u53e4\\u62c9\\u00b7\\u65af\\u62c9\\u592b\\u7279\\u7f85\\u592b\\u65af\\u57fa\\u300b\\u3002\"\n",
            "    }\n",
            "  ],\n",
            "  \"created\": 1671168713,\n",
            "  \"id\": \"cmpl-6Nxc1LIAQEiFu3kgmnv6Qwo5E4crh\",\n",
            "  \"model\": \"text-davinci-003\",\n",
            "  \"object\": \"text_completion\",\n",
            "  \"usage\": {\n",
            "    \"completion_tokens\": 107,\n",
            "    \"prompt_tokens\": 32,\n",
            "    \"total_tokens\": 139\n",
            "  }\n",
            "}\n",
            "[<OpenAIObject at 0x7fbfe9171720> JSON: {\n",
            "  \"finish_reason\": \"stop\",\n",
            "  \"index\": 0,\n",
            "  \"logprobs\": null,\n",
            "  \"text\": \"\\u662f\\u4ec0\\u9ebc\\uff1f\\nA:\\u6700\\u9577\\u7684\\u4ea4\\u97ff\\u6a02\\u540d\\u7a31\\u53ef\\u80fd\\u662f\\u5361\\u62c9\\u74e6\\u8036\\u592b\\u7684\\u300a\\u98db\\u8d8a\\u842c\\u91cc\\uff1a\\u7d00\\u5ff5\\u885b\\u514b\\u7406\\u58eb\\u00b7\\u5c3c\\u53e4\\u62c9\\u00b7\\u65af\\u62c9\\u592b\\u7279\\u7f85\\u592b\\u65af\\u57fa\\u300b\\u3002\"\n",
            "}]\n",
            "是什麼？\n",
            "A:最長的交響樂名稱可能是卡拉瓦耶夫的《飛越萬里：紀念衛克理士·尼古拉·斯拉夫特羅夫斯基》。\n"
          ]
        }
      ]
    },
    {
      "cell_type": "markdown",
      "source": [
        "## 遞迴至結果完整輸出測試"
      ],
      "metadata": {
        "id": "PgwwuIktbEg9"
      }
    },
    {
      "cell_type": "code",
      "source": [
        "text = \"模擬一篇400字櫻花季的報導\"\n",
        "test_prompt = \"A:哈囉！\\nQ:{}\\nA:\".format(text)\n",
        "stop_condition = False\n",
        "while not stop_condition:\n",
        "  response = openai.Completion.create(\n",
        "  model=\"text-davinci-003\", \n",
        "  prompt=test_prompt, \n",
        "  temperature=0.9,\n",
        "  frequency_penalty = 0,\n",
        "  presence_penalty = 0.6,\n",
        "  max_tokens=240\n",
        "  )\n",
        "  stop_condition = response.choices[0].finish_reason==\"stop\"\n",
        "  test_prompt += response['choices'][0]['text'].strip()\n",
        "\n",
        "  print(response['choices'][0]['text'].strip())\n",
        "\n",
        "print(response)\n",
        "print(response['choices'])\n",
        "print(test_prompt)"
      ],
      "metadata": {
        "colab": {
          "base_uri": "https://localhost:8080/"
        },
        "id": "_Z_4ebzBbLul",
        "outputId": "c97bc76d-9600-41fa-f149-993629f7967e"
      },
      "execution_count": 17,
      "outputs": [
        {
          "output_type": "stream",
          "name": "stdout",
          "text": [
            "櫻花季就要到了，近日來，沿著樹林大道、濱水公園及各大校園，紅梅花開得正盛，吸引許多攝影愛好者和遊客外出拍照朝聖。\n",
            "\n",
            "為了讓更多人能夠欣賞到美麗的櫻花季，許多城市都會舉辦不同的活動，舉凡櫻花狩獵、櫻花節慶典、櫻花湖畔\n",
            "野餐等，都能讓遊客有更多的互動與參與的機會，也能欣賞到櫻花的美景。\n",
            "\n",
            "同時，也有不少美食店家、花藝屋都推出專屬櫻花季的活動和產品，例如：精緻的櫻花主題餐盤、專屬櫻花季的藝術作品和金屬工藝品等，這些獨特的商品也吸引許\n",
            "多收藏愛好者前往購買。\n",
            "\n",
            "此外，你還可以到許多賞櫻花的景點尋找櫻花季的細節，在森林大道上穿行，或是河岸邊漫步，你都能看見櫻花綻放的美景，而這樣的無限美景，中外遊客也愛不釋手。\n",
            "\n",
            "在櫻花季期間，只要你多加留意，就能感受到\n",
            "春天到來的溫暖，讓你離開現實的壓力，歡喜的心情從此持久。\n",
            "{\n",
            "  \"choices\": [\n",
            "    {\n",
            "      \"finish_reason\": \"stop\",\n",
            "      \"index\": 0,\n",
            "      \"logprobs\": null,\n",
            "      \"text\": \"\\u6625\\u5929\\u5230\\u4f86\\u7684\\u6eab\\u6696\\uff0c\\u8b93\\u4f60\\u96e2\\u958b\\u73fe\\u5be6\\u7684\\u58d3\\u529b\\uff0c\\u6b61\\u559c\\u7684\\u5fc3\\u60c5\\u5f9e\\u6b64\\u6301\\u4e45\\u3002\"\n",
            "    }\n",
            "  ],\n",
            "  \"created\": 1671170325,\n",
            "  \"id\": \"cmpl-6Ny216BmtSMbqi73f70Z42QJelz0D\",\n",
            "  \"model\": \"text-davinci-003\",\n",
            "  \"object\": \"text_completion\",\n",
            "  \"usage\": {\n",
            "    \"completion_tokens\": 60,\n",
            "    \"prompt_tokens\": 762,\n",
            "    \"total_tokens\": 822\n",
            "  }\n",
            "}\n",
            "[<OpenAIObject at 0x7fbfe06d5cc0> JSON: {\n",
            "  \"finish_reason\": \"stop\",\n",
            "  \"index\": 0,\n",
            "  \"logprobs\": null,\n",
            "  \"text\": \"\\u6625\\u5929\\u5230\\u4f86\\u7684\\u6eab\\u6696\\uff0c\\u8b93\\u4f60\\u96e2\\u958b\\u73fe\\u5be6\\u7684\\u58d3\\u529b\\uff0c\\u6b61\\u559c\\u7684\\u5fc3\\u60c5\\u5f9e\\u6b64\\u6301\\u4e45\\u3002\"\n",
            "}]\n",
            "A:哈囉！\n",
            "Q:模擬一篇400字櫻花季的報導\n",
            "A:櫻花季就要到了，近日來，沿著樹林大道、濱水公園及各大校園，紅梅花開得正盛，吸引許多攝影愛好者和遊客外出拍照朝聖。\n",
            "\n",
            "為了讓更多人能夠欣賞到美麗的櫻花季，許多城市都會舉辦不同的活動，舉凡櫻花狩獵、櫻花節慶典、櫻花湖畔野餐等，都能讓遊客有更多的互動與參與的機會，也能欣賞到櫻花的美景。\n",
            "\n",
            "同時，也有不少美食店家、花藝屋都推出專屬櫻花季的活動和產品，例如：精緻的櫻花主題餐盤、專屬櫻花季的藝術作品和金屬工藝品等，這些獨特的商品也吸引許多收藏愛好者前往購買。\n",
            "\n",
            "此外，你還可以到許多賞櫻花的景點尋找櫻花季的細節，在森林大道上穿行，或是河岸邊漫步，你都能看見櫻花綻放的美景，而這樣的無限美景，中外遊客也愛不釋手。\n",
            "\n",
            "在櫻花季期間，只要你多加留意，就能感受到春天到來的溫暖，讓你離開現實的壓力，歡喜的心情從此持久。\n"
          ]
        }
      ]
    },
    {
      "cell_type": "code",
      "source": [
        "test_prompt"
      ],
      "metadata": {
        "colab": {
          "base_uri": "https://localhost:8080/",
          "height": 88
        },
        "id": "CaCXWM-0f9nQ",
        "outputId": "b85a6d36-4f18-4670-985e-088b4c499f05"
      },
      "execution_count": 18,
      "outputs": [
        {
          "output_type": "execute_result",
          "data": {
            "text/plain": [
              "'A:哈囉！\\nQ:模擬一篇400字櫻花季的報導\\nA:櫻花季就要到了，近日來，沿著樹林大道、濱水公園及各大校園，紅梅花開得正盛，吸引許多攝影愛好者和遊客外出拍照朝聖。\\n\\n為了讓更多人能夠欣賞到美麗的櫻花季，許多城市都會舉辦不同的活動，舉凡櫻花狩獵、櫻花節慶典、櫻花湖畔野餐等，都能讓遊客有更多的互動與參與的機會，也能欣賞到櫻花的美景。\\n\\n同時，也有不少美食店家、花藝屋都推出專屬櫻花季的活動和產品，例如：精緻的櫻花主題餐盤、專屬櫻花季的藝術作品和金屬工藝品等，這些獨特的商品也吸引許多收藏愛好者前往購買。\\n\\n此外，你還可以到許多賞櫻花的景點尋找櫻花季的細節，在森林大道上穿行，或是河岸邊漫步，你都能看見櫻花綻放的美景，而這樣的無限美景，中外遊客也愛不釋手。\\n\\n在櫻花季期間，只要你多加留意，就能感受到春天到來的溫暖，讓你離開現實的壓力，歡喜的心情從此持久。'"
            ],
            "application/vnd.google.colaboratory.intrinsic+json": {
              "type": "string"
            }
          },
          "metadata": {},
          "execution_count": 18
        }
      ]
    },
    {
      "cell_type": "markdown",
      "source": [
        "# Issues"
      ],
      "metadata": {
        "id": "VqutT_sMYX04"
      }
    },
    {
      "cell_type": "markdown",
      "source": [
        "## getenv 回傳字串轉布林值"
      ],
      "metadata": {
        "id": "DO43TmKfYljg"
      }
    },
    {
      "cell_type": "code",
      "source": [
        "os.environ['test']=\"0\"\n",
        "print(os.getenv(\"test\",default=\"true\").lower() in ['true', '1', 't'])"
      ],
      "metadata": {
        "colab": {
          "base_uri": "https://localhost:8080/"
        },
        "id": "fiEooeB5ecrr",
        "outputId": "0a74912d-8144-439d-aa71-42e446732909"
      },
      "execution_count": null,
      "outputs": [
        {
          "output_type": "stream",
          "name": "stdout",
          "text": [
            "False\n"
          ]
        }
      ]
    }
  ]
}